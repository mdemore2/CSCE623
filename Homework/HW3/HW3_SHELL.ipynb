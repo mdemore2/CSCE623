{
 "cells": [
  {
   "cell_type": "markdown",
   "metadata": {},
   "source": [
    "# CSCE 623 Homework Assignment 3 SOLUTION\n",
    "Instructor solution inspired by HW3 submission of Lt Joshua Gallaher, CSCE 623, 30 Apr 2019\n"
   ]
  },
  {
   "cell_type": "code",
   "execution_count": null,
   "metadata": {},
   "outputs": [],
   "source": [
    "\"\"\"\n",
    "HW3\n",
    "\"\"\"\n",
    "\n",
    "import numpy as np\n",
    "import matplotlib.pyplot as plt\n",
    "import random\n",
    "\n",
    "#make plots inline using jupyter magic\n",
    "%matplotlib inline\n",
    "\n",
    "import pandas as pd\n",
    "from pandas.plotting import scatter_matrix\n",
    "from sklearn import datasets, linear_model\n",
    "\n",
    "from IPython.display import Markdown as md  #enable markdown within code cell\n",
    "from IPython.display import display, Math, Latex\n",
    "\n",
    "#------ADDITIONAL STUDENT IMPORTS----------------\n",
    "#put student imports below this line\n",
    "\n",
    "import statistics as st"
   ]
  },
  {
   "cell_type": "markdown",
   "metadata": {},
   "source": [
    "## STEP 0 (helper functions):\n",
    "Instructor provided code for data generation & polynomial feature generation"
   ]
  },
  {
   "cell_type": "code",
   "execution_count": null,
   "metadata": {
    "scrolled": true
   },
   "outputs": [],
   "source": [
    "#STEP 0 -  instructor provided\n",
    "\n",
    "def makeData(myseed=1, quantity = 100):\n",
    "    np.random.seed(myseed)\n",
    "    x = np.random.uniform(low=-2.,high=2.,size=quantity)  \n",
    "    y = x - 2 * (x ** 2) + np.random.normal(size=quantity, scale = 2.0)\n",
    "    df = pd.DataFrame({'x': x, 'y': y})\n",
    "    return(df) \n",
    "\n",
    "\n",
    "def polyDesignMatrix(x, p):\n",
    "    '''returns a polynomial design (numpy) matrix from a single feature column vector x.\n",
    "    The return matrix contains columns of x**0, x**1, … x**p \n",
    "    where p is the desired highest order of the polynomial.'''\n",
    "    x = np.array(x)  \n",
    "    X = np.transpose(np.vstack((x**k for k in range(p+1))))\n",
    "    return(X)\n",
    "\n",
    "\n",
    "#test the function\n",
    "print(\"\\n CHECKING MAKEDATA (Quantity = 5)\")\n",
    "checkdata = makeData(quantity = 5)\n",
    "print(\"\\n\")\n",
    "checkdata.info()\n",
    "checkdata.head()\n",
    "print(\"\\n\")\n",
    "print(checkdata)\n",
    "checkdata.plot.scatter(x='x', y='y')\n",
    "print(\"\\n CHECKING POLY DESIGN MATRIX\")\n",
    "checkpoly = polyDesignMatrix(checkdata['x'],3)\n",
    "print(checkpoly)\n",
    "\n"
   ]
  },
  {
   "cell_type": "markdown",
   "metadata": {},
   "source": [
    "## STEP 1 (data generation and description):"
   ]
  },
  {
   "cell_type": "code",
   "execution_count": null,
   "metadata": {},
   "outputs": [],
   "source": [
    "df1=makeData()\n",
    "\n",
    "# Code to display the answers to question 1 in this cell and/or a markdown cell below\n"
   ]
  },
  {
   "cell_type": "markdown",
   "metadata": {},
   "source": [
    "### Step 1  text answer below\n",
    "\n",
    "\n"
   ]
  },
  {
   "cell_type": "markdown",
   "metadata": {},
   "source": [
    "## STEP 2 (scatterplot and description):"
   ]
  },
  {
   "cell_type": "code",
   "execution_count": null,
   "metadata": {},
   "outputs": [],
   "source": [
    "# Scatterplot of x vs y\n",
    "\n"
   ]
  },
  {
   "cell_type": "markdown",
   "metadata": {},
   "source": [
    "### Step 2 text answer below\n",
    "\n",
    "\n",
    "### Official Hypothesis\n"
   ]
  },
  {
   "cell_type": "markdown",
   "metadata": {},
   "source": [
    "## STEP 3 (Ordinary least squares):"
   ]
  },
  {
   "cell_type": "code",
   "execution_count": null,
   "metadata": {},
   "outputs": [],
   "source": [
    "def getOLScoefficients(X, y):\n",
    "    '''computes and returns the OLS coefficients (betas) from design matrix X\n",
    "    and response variable y.  Returns a ROW VECTOR of betas\n",
    "    First column of design matrix should contain only values equalling 1.'''\n",
    "   \n",
    "    # YOUR CODE HERE\n",
    "    raise NotImplementedError()\n",
    "    return betas\n",
    "\n",
    "def getOLSpredictions(X, betas):\n",
    "    '''computes and returns the OLS predictions (yhat) from design matrix X\n",
    "    and ROW VECTOR betas.  yhat will be a column vector.\n",
    "    First column of design matrix should contain only values equalling 1.'''\n",
    "    \n",
    "\n",
    "    # YOUR CODE HERE\n",
    "    raise NotImplementedError()\n",
    "    return(yhat)\n"
   ]
  },
  {
   "cell_type": "markdown",
   "metadata": {},
   "source": [
    "## STEP 4 (implement LOOCV as a function):\n",
    "Define a function to run LOOCV to return cross-validation performance on an OLS regression model with polynomial terms. The signature of a call to this function is LOOCVerr(df, modelOrder), where the dataset is df and the maximum term order is defined by modelOrder.   This function should return a vector of n cross validation error values (squared error terms) that result from n repetitions of training the model on all but the ith observation and predicting on the ith observation. \n",
    "\n",
    "For example, if modelOrder = 3, then your function will first obtain a design matrix X produced by polyDesignMatrix on the data feature x (n rows by 4 columns), and then run LOOCV on an OLS regression model for $y=\\beta_0+\\beta_1x+\\beta_2x^2+\\beta_3x^3$ using the X & Y data from df.  Since df contains n observations then LOOCVerr will return a vector of length n containing the n individual squared error terms (actual y minus predicted y)2  .\n",
    "The goal of this step is for you to write code which manages the cross validation.  Call the functions to fit OLS coefficients and make predictions you wrote earlier from within LOOCVerr, and write your own LOOCV cross-validation code to produce your results.  \n"
   ]
  },
  {
   "cell_type": "code",
   "execution_count": null,
   "metadata": {},
   "outputs": [],
   "source": [
    "def LOOCVerr(df, modelOrder):\n",
    "    \n",
    "    errorVec = np.zeros((1,df.shape[0]))\n",
    "    \n",
    "    # YOUR CODE HERE\n",
    "    raise NotImplementedError()\n",
    "    \n",
    "    return errorVec \n"
   ]
  },
  {
   "cell_type": "markdown",
   "metadata": {},
   "source": [
    "## STEP 5 (compute LOOCV errors on polynomial model orders 1,2,3,4):\n",
    "\n",
    "Using ```df1``` (where you ran makeData with a default seed value of 1) build a for-loop to run LOOCV to generate error vectors using modelOrder values from 1 through 4.  LOOCV will build and return squared error vectors for 4 separate models which were evaluated with linear, linear+quadratic, linear+quadratic+cubic, and linear+quadratic+cubic+quartic terms.  "
   ]
  },
  {
   "cell_type": "code",
   "execution_count": null,
   "metadata": {},
   "outputs": [],
   "source": [
    "maxorder = 7\n",
    "\n",
    "orders = np.arange(1,maxorder+1)\n",
    "\n",
    "# YOUR CODE HERE\n",
    "raise NotImplementedError()\n",
    "\n"
   ]
  },
  {
   "cell_type": "markdown",
   "metadata": {},
   "source": [
    "## STEP 6 (plot LOOCV MSE as a function of model order ):\n",
    "\n",
    "Compute the MSEs from the error vectors and plot the MSE results from your LOOCV on models of order 1 through 4.  This plot should have the model order on the x axis and mean squared error on the y axis (MSE is the mean of the squared values of the error terms on the y axis).  Determine the model order with the minimum cross-validation MSE and indicate the minimizing model order on the plot & report it, along with the MSE for that model.  Indicate whether or not the best order model matched your hypothesis in Step 2 and explain any differences. "
   ]
  },
  {
   "cell_type": "code",
   "execution_count": null,
   "metadata": {},
   "outputs": [],
   "source": [
    "# YOUR CODE HERE\n",
    "raise NotImplementedError()"
   ]
  },
  {
   "cell_type": "markdown",
   "metadata": {},
   "source": [
    "### Step 6  text answer below\n",
    "\n"
   ]
  },
  {
   "cell_type": "markdown",
   "metadata": {},
   "source": [
    "## STEP 7 (implement valset as a function):"
   ]
  },
  {
   "cell_type": "code",
   "execution_count": null,
   "metadata": {},
   "outputs": [],
   "source": [
    "def VALSETerr(df,modelOrder,splitseed): \n",
    "   \n",
    "    # YOUR CODE HERE\n",
    "    raise NotImplementedError()\n",
    "    return curr_MSE\n"
   ]
  },
  {
   "cell_type": "markdown",
   "metadata": {},
   "source": [
    "## STEP 8 (implement k-fold cross-validation as a function):"
   ]
  },
  {
   "cell_type": "code",
   "execution_count": null,
   "metadata": {},
   "outputs": [],
   "source": [
    "def KFOLDerr(df,modelOrder,k,splitseed):\n",
    "    errorterms = np.zeros((k))\n",
    "    \n",
    "    # YOUR CODE HERE\n",
    "    raise NotImplementedError()\n",
    "    return errorterms\n"
   ]
  },
  {
   "cell_type": "markdown",
   "metadata": {},
   "source": [
    "## STEP 9 (compute and collect MSEs from validation methods):"
   ]
  },
  {
   "cell_type": "code",
   "execution_count": null,
   "metadata": {},
   "outputs": [],
   "source": [
    "seed_count = 10\n",
    "seeds = np.arange(1,seed_count+1) #use seed vals 1...10\n",
    "val_set_MSEs=np.zeros((maxorder,seed_count))\n",
    "five_fold_CV_MSEs = np.zeros((maxorder,seed_count))\n",
    "ten_fold_CV_MSEs = np.zeros((maxorder,seed_count))\n",
    "\n",
    "# YOUR CODE HERE\n",
    "raise NotImplementedError()\n",
    "\n",
    "  "
   ]
  },
  {
   "cell_type": "markdown",
   "metadata": {},
   "source": [
    "## STEP 10 (build \"spaghetti\" plots of cross validation results):"
   ]
  },
  {
   "cell_type": "code",
   "execution_count": null,
   "metadata": {},
   "outputs": [],
   "source": [
    "# YOUR CODE HERE\n",
    "raise NotImplementedError()\n",
    "\n"
   ]
  },
  {
   "cell_type": "markdown",
   "metadata": {},
   "source": [
    "## STEP 11 (human estimate of most reliable validation technique):"
   ]
  },
  {
   "cell_type": "code",
   "execution_count": null,
   "metadata": {},
   "outputs": [],
   "source": [
    "# YOUR CODE HERE\n",
    "raise NotImplementedError()\n",
    "\n"
   ]
  },
  {
   "cell_type": "markdown",
   "metadata": {},
   "source": [
    "### Step 11 text answer below\n"
   ]
  },
  {
   "cell_type": "markdown",
   "metadata": {},
   "source": [
    "## STEP 12 (algorithmic determination of best-order model from most reliable val method) :"
   ]
  },
  {
   "cell_type": "code",
   "execution_count": null,
   "metadata": {},
   "outputs": [],
   "source": [
    "# YOUR CODE HERE\n",
    "raise NotImplementedError()"
   ]
  },
  {
   "cell_type": "markdown",
   "metadata": {},
   "source": [
    "### Step 12 text answer below\n",
    "\n"
   ]
  }
 ],
 "metadata": {
  "kernelspec": {
   "display_name": "Python 3",
   "language": "python",
   "name": "python3"
  },
  "language_info": {
   "codemirror_mode": {
    "name": "ipython",
    "version": 3
   },
   "file_extension": ".py",
   "mimetype": "text/x-python",
   "name": "python",
   "nbconvert_exporter": "python",
   "pygments_lexer": "ipython3",
   "version": "3.7.6"
  }
 },
 "nbformat": 4,
 "nbformat_minor": 4
}
