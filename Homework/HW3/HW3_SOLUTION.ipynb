{
 "cells": [
  {
   "cell_type": "markdown",
   "metadata": {},
   "source": [
    "# CSCE 623 Homework Assignment 3 SOLUTION\n",
    "Instructor solution inspired by HW3 submission of Lt Joshua Gallaher, CSCE 623, 30 Apr 2019\n"
   ]
  },
  {
   "cell_type": "code",
   "execution_count": 1,
   "metadata": {},
   "outputs": [],
   "source": [
    "\"\"\"\n",
    "HW3\n",
    "\"\"\"\n",
    "\n",
    "import numpy as np\n",
    "import matplotlib.pyplot as plt\n",
    "import random\n",
    "\n",
    "#make plots inline using jupyter magic\n",
    "%matplotlib inline\n",
    "\n",
    "import pandas as pd\n",
    "from pandas.plotting import scatter_matrix\n",
    "from sklearn import datasets, linear_model\n",
    "\n",
    "from IPython.display import Markdown as md  #enable markdown within code cell\n",
    "from IPython.display import display, Math, Latex\n",
    "\n",
    "#------ADDITIONAL STUDENT IMPORTS----------------\n",
    "#put student imports below this line\n",
    "\n",
    "import statistics as st"
   ]
  },
  {
   "cell_type": "markdown",
   "metadata": {},
   "source": [
    "## STEP 0 (helper functions):\n",
    "Instructor provided code for data generation & polynomial feature generation"
   ]
  },
  {
   "cell_type": "code",
   "execution_count": 2,
   "metadata": {
    "scrolled": true
   },
   "outputs": [
    {
     "name": "stdout",
     "output_type": "stream",
     "text": [
      "\n",
      " CHECKING MAKEDATA (Quantity = 5)\n",
      "\n",
      "\n",
      "<class 'pandas.core.frame.DataFrame'>\n",
      "RangeIndex: 5 entries, 0 to 4\n",
      "Data columns (total 2 columns):\n",
      " #   Column  Non-Null Count  Dtype  \n",
      "---  ------  --------------  -----  \n",
      " 0   x       5 non-null      float64\n",
      " 1   y       5 non-null      float64\n",
      "dtypes: float64(2)\n",
      "memory usage: 208.0 bytes\n",
      "\n",
      "\n",
      "          x          y\n",
      "0 -0.331912  -2.764113\n",
      "1  0.881298  -3.981105\n",
      "2 -1.999543 -14.722820\n",
      "3 -0.790670   0.229704\n",
      "4 -1.412976  -7.440010\n",
      "\n",
      " CHECKING POLY DESIGN MATRIX\n",
      "[[ 1.         -0.33191198  0.11016556 -0.03656527]\n",
      " [ 1.          0.88129797  0.77668612  0.6844919 ]\n",
      " [ 1.         -1.9995425   3.99817021 -7.99451126]\n",
      " [ 1.         -0.79066971  0.62515859 -0.49429396]\n",
      " [ 1.         -1.41297644  1.99650241 -2.82101086]]\n"
     ]
    },
    {
     "name": "stderr",
     "output_type": "stream",
     "text": [
      "C:\\ProgramData\\Anaconda3\\lib\\site-packages\\ipykernel_launcher.py:16: FutureWarning: arrays to stack must be passed as a \"sequence\" type such as list or tuple. Support for non-sequence iterables such as generators is deprecated as of NumPy 1.16 and will raise an error in the future.\n",
      "  app.launch_new_instance()\n"
     ]
    },
    {
     "data": {
      "image/png": "[encoded data removed]",
      "text/plain": [
       "<Figure size 432x288 with 1 Axes>"
      ]
     },
     "metadata": {
      "needs_background": "light"
     },
     "output_type": "display_data"
    }
   ],
   "source": [
    "#STEP 0 -  instructor provided\n",
    "\n",
    "def makeData(myseed=1, quantity = 100):\n",
    "    np.random.seed(myseed)\n",
    "    x = np.random.uniform(low=-2.,high=2.,size=quantity)  \n",
    "    y = x - 2 * (x ** 2) + np.random.normal(size=quantity, scale = 2.0)\n",
    "    df = pd.DataFrame({'x': x, 'y': y})\n",
    "    return(df) \n",
    "\n",
    "\n",
    "def polyDesignMatrix(x, p):\n",
    "    '''returns a polynomial design (numpy) matrix from a single feature column vector x.\n",
    "    The return matrix contains columns of x**0, x**1, … x**p \n",
    "    where p is the desired highest order of the polynomial.'''\n",
    "    x = np.array(x)  \n",
    "    X = np.transpose(np.vstack((x**k for k in range(p+1))))\n",
    "    return(X)\n",
    "\n",
    "\n",
    "#test the function\n",
    "print(\"\\n CHECKING MAKEDATA (Quantity = 5)\")\n",
    "checkdata = makeData(quantity = 5)\n",
    "print(\"\\n\")\n",
    "checkdata.info()\n",
    "checkdata.head()\n",
    "print(\"\\n\")\n",
    "print(checkdata)\n",
    "checkdata.plot.scatter(x='x', y='y')\n",
    "print(\"\\n CHECKING POLY DESIGN MATRIX\")\n",
    "checkpoly = polyDesignMatrix(checkdata['x'],3)\n",
    "print(checkpoly)\n",
    "\n"
   ]
  },
  {
   "cell_type": "markdown",
   "metadata": {},
   "source": [
    "## STEP 1 (data generation and description):"
   ]
  },
  {
   "cell_type": "code",
   "execution_count": 3,
   "metadata": {},
   "outputs": [
    {
     "data": {
      "text/html": [
       "<div>\n",
       "<style scoped>\n",
       "    .dataframe tbody tr th:only-of-type {\n",
       "        vertical-align: middle;\n",
       "    }\n",
       "\n",
       "    .dataframe tbody tr th {\n",
       "        vertical-align: top;\n",
       "    }\n",
       "\n",
       "    .dataframe thead th {\n",
       "        text-align: right;\n",
       "    }\n",
       "</style>\n",
       "<table border=\"1\" class=\"dataframe\">\n",
       "  <thead>\n",
       "    <tr style=\"text-align: right;\">\n",
       "      <th></th>\n",
       "      <th>x</th>\n",
       "      <th>y</th>\n",
       "    </tr>\n",
       "  </thead>\n",
       "  <tbody>\n",
       "    <tr>\n",
       "      <th>count</th>\n",
       "      <td>100.000000</td>\n",
       "      <td>100.000000</td>\n",
       "    </tr>\n",
       "    <tr>\n",
       "      <th>mean</th>\n",
       "      <td>-0.056488</td>\n",
       "      <td>-2.668644</td>\n",
       "    </tr>\n",
       "    <tr>\n",
       "      <th>std</th>\n",
       "      <td>1.183539</td>\n",
       "      <td>3.114400</td>\n",
       "    </tr>\n",
       "    <tr>\n",
       "      <th>min</th>\n",
       "      <td>-1.999543</td>\n",
       "      <td>-13.030756</td>\n",
       "    </tr>\n",
       "    <tr>\n",
       "      <th>25%</th>\n",
       "      <td>-1.160663</td>\n",
       "      <td>-4.956563</td>\n",
       "    </tr>\n",
       "    <tr>\n",
       "      <th>50%</th>\n",
       "      <td>-0.117029</td>\n",
       "      <td>-2.332821</td>\n",
       "    </tr>\n",
       "    <tr>\n",
       "      <th>75%</th>\n",
       "      <td>0.886971</td>\n",
       "      <td>-0.269798</td>\n",
       "    </tr>\n",
       "    <tr>\n",
       "      <th>max</th>\n",
       "      <td>1.955444</td>\n",
       "      <td>3.743904</td>\n",
       "    </tr>\n",
       "  </tbody>\n",
       "</table>\n",
       "</div>"
      ],
      "text/plain": [
       "                x           y\n",
       "count  100.000000  100.000000\n",
       "mean    -0.056488   -2.668644\n",
       "std      1.183539    3.114400\n",
       "min     -1.999543  -13.030756\n",
       "25%     -1.160663   -4.956563\n",
       "50%     -0.117029   -2.332821\n",
       "75%      0.886971   -0.269798\n",
       "max      1.955444    3.743904"
      ]
     },
     "execution_count": 3,
     "metadata": {},
     "output_type": "execute_result"
    }
   ],
   "source": [
    "df1=makeData()\n",
    "\n",
    "# Code to display the answers to question 1 in this cell and/or a markdown cell below\n",
    "df1.describe()"
   ]
  },
  {
   "cell_type": "code",
   "execution_count": 4,
   "metadata": {},
   "outputs": [
    {
     "data": {
      "text/html": [
       "<div>\n",
       "<style scoped>\n",
       "    .dataframe tbody tr th:only-of-type {\n",
       "        vertical-align: middle;\n",
       "    }\n",
       "\n",
       "    .dataframe tbody tr th {\n",
       "        vertical-align: top;\n",
       "    }\n",
       "\n",
       "    .dataframe thead th {\n",
       "        text-align: right;\n",
       "    }\n",
       "</style>\n",
       "<table border=\"1\" class=\"dataframe\">\n",
       "  <thead>\n",
       "    <tr style=\"text-align: right;\">\n",
       "      <th></th>\n",
       "      <th>x</th>\n",
       "      <th>y</th>\n",
       "    </tr>\n",
       "  </thead>\n",
       "  <tbody>\n",
       "    <tr>\n",
       "      <th>0</th>\n",
       "      <td>-0.331912</td>\n",
       "      <td>0.079027</td>\n",
       "    </tr>\n",
       "    <tr>\n",
       "      <th>1</th>\n",
       "      <td>0.881298</td>\n",
       "      <td>-4.716477</td>\n",
       "    </tr>\n",
       "    <tr>\n",
       "      <th>2</th>\n",
       "      <td>-1.999543</td>\n",
       "      <td>-10.608291</td>\n",
       "    </tr>\n",
       "    <tr>\n",
       "      <th>3</th>\n",
       "      <td>-0.790670</td>\n",
       "      <td>-0.385038</td>\n",
       "    </tr>\n",
       "    <tr>\n",
       "      <th>4</th>\n",
       "      <td>-1.412976</td>\n",
       "      <td>-4.945792</td>\n",
       "    </tr>\n",
       "    <tr>\n",
       "      <th>...</th>\n",
       "      <td>...</td>\n",
       "      <td>...</td>\n",
       "    </tr>\n",
       "    <tr>\n",
       "      <th>95</th>\n",
       "      <td>-1.051892</td>\n",
       "      <td>-7.057568</td>\n",
       "    </tr>\n",
       "    <tr>\n",
       "      <th>96</th>\n",
       "      <td>1.613518</td>\n",
       "      <td>-4.887196</td>\n",
       "    </tr>\n",
       "    <tr>\n",
       "      <th>97</th>\n",
       "      <td>0.294718</td>\n",
       "      <td>1.923974</td>\n",
       "    </tr>\n",
       "    <tr>\n",
       "      <th>98</th>\n",
       "      <td>-1.988519</td>\n",
       "      <td>-4.840280</td>\n",
       "    </tr>\n",
       "    <tr>\n",
       "      <th>99</th>\n",
       "      <td>0.468580</td>\n",
       "      <td>-0.467824</td>\n",
       "    </tr>\n",
       "  </tbody>\n",
       "</table>\n",
       "<p>100 rows × 2 columns</p>\n",
       "</div>"
      ],
      "text/plain": [
       "           x          y\n",
       "0  -0.331912   0.079027\n",
       "1   0.881298  -4.716477\n",
       "2  -1.999543 -10.608291\n",
       "3  -0.790670  -0.385038\n",
       "4  -1.412976  -4.945792\n",
       "..       ...        ...\n",
       "95 -1.051892  -7.057568\n",
       "96  1.613518  -4.887196\n",
       "97  0.294718   1.923974\n",
       "98 -1.988519  -4.840280\n",
       "99  0.468580  -0.467824\n",
       "\n",
       "[100 rows x 2 columns]"
      ]
     },
     "execution_count": 4,
     "metadata": {},
     "output_type": "execute_result"
    }
   ],
   "source": [
    "# Print out df1\n",
    "df1\n"
   ]
  },
  {
   "cell_type": "code",
   "execution_count": 5,
   "metadata": {},
   "outputs": [
    {
     "name": "stdout",
     "output_type": "stream",
     "text": [
      "<class 'pandas.core.frame.DataFrame'>\n",
      "RangeIndex: 100 entries, 0 to 99\n",
      "Data columns (total 2 columns):\n",
      " #   Column  Non-Null Count  Dtype  \n",
      "---  ------  --------------  -----  \n",
      " 0   x       100 non-null    float64\n",
      " 1   y       100 non-null    float64\n",
      "dtypes: float64(2)\n",
      "memory usage: 1.7 KB\n"
     ]
    }
   ],
   "source": [
    "# Print out info about df1\n",
    "df1.info()"
   ]
  },
  {
   "cell_type": "code",
   "execution_count": 6,
   "metadata": {},
   "outputs": [
    {
     "name": "stdout",
     "output_type": "stream",
     "text": [
      "observation count:  100\n",
      "feature count:  1\n"
     ]
    }
   ],
   "source": [
    "obscount = df1.shape[0]\n",
    "featurecount = df1.shape[1]-1  #note that the second column is y.  it is not a feature\n",
    "print(\"observation count: \", obscount)\n",
    "print(\"feature count: \", featurecount)"
   ]
  },
  {
   "cell_type": "markdown",
   "metadata": {},
   "source": [
    "### Step 1  text answer below\n",
    "how many observations and how many features\n",
    "\n",
    "There are  100 total observations.\n",
    "\n",
    "There is 1 feature, \"x.\"\n",
    "there is one output variable: \"y\"\n",
    "\n"
   ]
  },
  {
   "cell_type": "markdown",
   "metadata": {},
   "source": [
    "## STEP 2 (scatterplot and description):"
   ]
  },
  {
   "cell_type": "code",
   "execution_count": 7,
   "metadata": {},
   "outputs": [
    {
     "data": {
      "text/plain": [
       "Text(0.5, 1.0, 'X vs. Y for df1')"
      ]
     },
     "execution_count": 7,
     "metadata": {},
     "output_type": "execute_result"
    },
    {
     "data": {
      "image/png": "[encoded data removed]",
      "text/plain": [
       "<Figure size 432x288 with 1 Axes>"
      ]
     },
     "metadata": {
      "needs_background": "light"
     },
     "output_type": "display_data"
    }
   ],
   "source": [
    "# Scatterplot of x vs y\n",
    "\n",
    "plt.scatter(df1.x, df1.y)\n",
    "plt.xlabel(\"X\")\n",
    "plt.ylabel(\"Y\")\n",
    "plt.title(\"X vs. Y for df1\")"
   ]
  },
  {
   "cell_type": "markdown",
   "metadata": {},
   "source": [
    "### Step 2 text answer below\n",
    "\n",
    "The shape of the data appears to be a parabola that is concave down. As x increases, y initially increases until an inflection point around x = 0.25. After this point, y decreases in value. The relationship appears to be non-linear and polynomial. It appears to be quadratic in nature.\n",
    "\n",
    "### Official Hypothesis\n",
    "A model containing quadratic terms will best fit this data. "
   ]
  },
  {
   "cell_type": "markdown",
   "metadata": {},
   "source": [
    "## STEP 3 (Ordinary least squares):"
   ]
  },
  {
   "cell_type": "code",
   "execution_count": 8,
   "metadata": {},
   "outputs": [],
   "source": [
    "def getOLScoefficients(X, y):\n",
    "    '''computes and returns the OLS coefficients (betas) from design matrix X\n",
    "    and response variable y.  Returns a ROW VECTOR of betas\n",
    "    First column of design matrix should contain only values equalling 1.'''\n",
    "   \n",
    "    XT = X.T\n",
    "\n",
    "    # Equation found on https://en.wikipedia.org/wiki/Regression_analysis\n",
    "    betas = np.dot( np.linalg.inv( np.dot( XT, X ) ), np.dot( XT, y ) )  \n",
    "    \n",
    "    return betas\n",
    "\n",
    "def getOLSpredictions(X, betas):\n",
    "    '''computes and returns the OLS predictions (yhat) from design matrix X\n",
    "    and ROW VECTOR betas.  yhat will be a column vector.\n",
    "    First column of design matrix should contain only values equalling 1.'''\n",
    "    \n",
    "    #     Convert from row to column vector\n",
    "    yhat = np.array( [ np.dot(X, betas) ] ).T\n",
    "\n",
    "\n",
    "    return(yhat)\n"
   ]
  },
  {
   "cell_type": "markdown",
   "metadata": {},
   "source": [
    "## STEP 4 (implement LOOCV as a function):\n",
    "Define a function to run LOOCV to return cross-validation performance on an OLS regression model with polynomial terms. The signature of a call to this function is LOOCVerr(df, modelOrder), where the dataset is df and the maximum term order is defined by modelOrder.   This function should return a vector of n cross validation error values (squared error terms) that result from n repetitions of training the model on all but the ith observation and predicting on the ith observation. \n",
    "\n",
    "For example, if modelOrder = 3, then your function will first obtain a design matrix X produced by polyDesignMatrix on the data feature x (n rows by 4 columns), and then run LOOCV on an OLS regression model for $y=\\beta_0+\\beta_1x+\\beta_2x^2+\\beta_3x^3$ using the X & Y data from df.  Since df contains n observations then LOOCVerr will return a vector of length n containing the n individual squared error terms (actual y minus predicted y)2  .\n",
    "The goal of this step is for you to write code which manages the cross validation.  Call the functions to fit OLS coefficients and make predictions you wrote earlier from within LOOCVerr, and write your own LOOCV cross-validation code to produce your results.  \n"
   ]
  },
  {
   "cell_type": "code",
   "execution_count": 9,
   "metadata": {},
   "outputs": [],
   "source": [
    "def LOOCVerr(df, modelOrder):\n",
    "    \n",
    "    errorVec = np.zeros((1,df.shape[0]))\n",
    "    \n",
    "    # Train the model on all but the ith observation\n",
    "    for i in range(len(df)):\n",
    "        # One left out is the ith iteration\n",
    "        oneLeftOut = df.loc[i]\n",
    "\n",
    "        # Get rid of the one left out by dropping it\n",
    "        train_set = df.drop( [i] )\n",
    "\n",
    "        # Obtain design matrix for X_train\n",
    "        X_train = polyDesignMatrix( train_set['x'], modelOrder)\n",
    "        \n",
    "        # Get the OLS coefficients using the training set\n",
    "        betas = getOLScoefficients( X_train, train_set['y'])\n",
    "        \n",
    "        # Obtain design matrix for one left out\n",
    "        X_test = polyDesignMatrix( oneLeftOut['x'], modelOrder)\n",
    "        \n",
    "        # Get the predictions using the valiation set\n",
    "        yhat = getOLSpredictions( X_test, betas)\n",
    "\n",
    "        #Actual y minus predicted y of the validation set\n",
    "        ydiff = oneLeftOut['y'] - yhat\n",
    "\n",
    "        yDiffSquared = ydiff ** 2\n",
    "        \n",
    "        #errorVec.append( yDiffSquared[0][0] )\n",
    "        errorVec[0,i]=( yDiffSquared[0][0] )\n",
    "    \n",
    "    return errorVec \n"
   ]
  },
  {
   "cell_type": "markdown",
   "metadata": {},
   "source": [
    "## STEP 5 (compute LOOCV errors on polynomial model orders 1,2,3,4):\n",
    "\n",
    "Using ```df1``` (where you ran makeData with a default seed value of 1) build a for-loop to run LOOCV to generate error vectors using modelOrder values from 1 through 4.  LOOCV will build and return squared error vectors for 4 separate models which were evaluated with linear, linear+quadratic, linear+quadratic+cubic, and linear+quadratic+cubic+quartic terms.  "
   ]
  },
  {
   "cell_type": "code",
   "execution_count": 11,
   "metadata": {},
   "outputs": [
    {
     "name": "stderr",
     "output_type": "stream",
     "text": [
      "C:\\ProgramData\\Anaconda3\\lib\\site-packages\\ipykernel_launcher.py:16: FutureWarning: arrays to stack must be passed as a \"sequence\" type such as list or tuple. Support for non-sequence iterables such as generators is deprecated as of NumPy 1.16 and will raise an error in the future.\n",
      "  app.launch_new_instance()\n"
     ]
    }
   ],
   "source": [
    "maxorder = 7\n",
    "\n",
    "orders = np.arange(1,maxorder+1)\n",
    "\n",
    "loocv_errs=np.zeros((maxorder,obscount))\n",
    "\n",
    "for curr_order in orders:  #iterate over possible orders\n",
    "    resids = LOOCVerr( df1, curr_order)  # temp vector of the residuals from LOOCV prediction\n",
    "    loocv_errs[curr_order-1,:] = resids  # copy resids into the array\n",
    "\n",
    "\n"
   ]
  },
  {
   "cell_type": "markdown",
   "metadata": {},
   "source": [
    "## STEP 6 (plot LOOCV MSE as a function of model order ):\n",
    "\n",
    "Compute the MSEs from the error vectors and plot the MSE results from your LOOCV on models of order 1 through 4.  This plot should have the model order on the x axis and mean squared error on the y axis (MSE is the mean of the squared values of the error terms on the y axis).  Determine the model order with the minimum cross-validation MSE and indicate the minimizing model order on the plot & report it, along with the MSE for that model.  Indicate whether or not the best order model matched your hypothesis in Step 2 and explain any differences. "
   ]
  },
  {
   "cell_type": "code",
   "execution_count": 12,
   "metadata": {},
   "outputs": [
    {
     "name": "stdout",
     "output_type": "stream",
     "text": [
      "MSE values per model order:  [8.51560441 3.36664617 3.45474469 3.54537989 3.62429676 3.72124551\n",
      " 3.82594539]\n",
      "Minimum MSE occurs at model order =  2  where MSE =  3.3666461743067755\n"
     ]
    },
    {
     "data": {
      "text/plain": [
       "Text(2, 4.376640026598809, 'Minimum MSE')"
      ]
     },
     "execution_count": 12,
     "metadata": {},
     "output_type": "execute_result"
    },
    {
     "data": {
      "image/png": "[encoded data removed]",
      "text/plain": [
       "<Figure size 432x288 with 1 Axes>"
      ]
     },
     "metadata": {
      "needs_background": "light"
     },
     "output_type": "display_data"
    }
   ],
   "source": [
    "\n",
    "\n",
    "# Find the MSE for each error vector\n",
    "loocv_mse = np.mean(loocv_errs,axis=1)\n",
    "print(\"MSE values per model order: \",loocv_mse)\n",
    "\n",
    "    \n",
    "# Make the plot\n",
    "plt.plot( orders, loocv_mse, marker='o')\n",
    "plt.xlabel(\"Model Order\")\n",
    "plt.ylabel(\"MSE\")\n",
    "plt.title(\"Model Order vs MSE\")\n",
    "plt.xticks(ticks = orders)\n",
    "\n",
    "minimum_MSE_model_order = np.argmin(loocv_mse)+1   #find the index of the minimizer and convert to order number\n",
    "print(\"Minimum MSE occurs at model order = \", minimum_MSE_model_order,\" where MSE = \", loocv_mse[minimum_MSE_model_order - 1])\n",
    "plt.text( minimum_MSE_model_order, 1.3 * min(loocv_mse), \"Minimum MSE\", rotation=90)  #add a text annotation\n"
   ]
  },
  {
   "cell_type": "markdown",
   "metadata": {},
   "source": [
    "### Step 6  text answer below\n",
    "\n",
    "The best fitting model and MSE for this model is shown in the code output and graph above.  It is the lowest MSE for the models investigated. This matches the hypothesis for the best-fitting model.  While higher order models containing a quadratic term also fit the data fairly well, the terms with higher orders are starting to fit to noise, resulting in worse MSE performance in LOOCV"
   ]
  },
  {
   "cell_type": "markdown",
   "metadata": {},
   "source": [
    "## STEP 7 (implement valset as a function):"
   ]
  },
  {
   "cell_type": "code",
   "execution_count": 13,
   "metadata": {},
   "outputs": [],
   "source": [
    "def VALSETerr(df,modelOrder,splitseed): \n",
    "   \n",
    "    # Handle even and odd numbers of data\n",
    "    # Even just takes half, odd is going to be the majority for the training set\n",
    "    if ( len(df.index) % 2 == 0 ):\n",
    "        half = int( len(df.index) / 2 )\n",
    "    else:\n",
    "        half = int( ( len(df.index) + 1 ) / 2  )\n",
    "    \n",
    "    # Take the sets by sampling and using a random seed\n",
    "    train_data = df.sample( n=half, random_state=splitseed)\n",
    "    val_data = pd.concat([ df, train_data ]).drop_duplicates(keep=False)\n",
    "\n",
    "    # Make design matrix for training data\n",
    "    X = polyDesignMatrix( train_data['x'], modelOrder)\n",
    "    \n",
    "    # Get the betas using the training set\n",
    "    betas = getOLScoefficients( X, train_data['y'] )\n",
    "    \n",
    "    # Get the design matrix for the validation set\n",
    "    X_val = polyDesignMatrix( val_data['x'], modelOrder )\n",
    "    \n",
    "    # Get y preds using the validation set\n",
    "    yhat = getOLSpredictions( X_val, betas )\n",
    "\n",
    "    # Convert y data into a column vector\n",
    "    y = np.array([np.array(val_data['y'].values)]).T\n",
    "    \n",
    "    # Actual y minus predicted y of the validation set\n",
    "    ydiff = y - yhat\n",
    "\n",
    "    # Find the RSS\n",
    "    yDiffT = ydiff.T\n",
    "    rss = np.dot( yDiffT, ydiff)\n",
    "    \n",
    "    # Find the MSE\n",
    "    curr_MSE = rss / len(val_data.index)\n",
    "    #mse.append( curr_MSE[0][0] )\n",
    "\n",
    "    #return mse[0]\n",
    "    return curr_MSE\n"
   ]
  },
  {
   "cell_type": "markdown",
   "metadata": {},
   "source": [
    "## STEP 8 (implement k-fold cross-validation as a function):"
   ]
  },
  {
   "cell_type": "code",
   "execution_count": 14,
   "metadata": {},
   "outputs": [],
   "source": [
    "def KFOLDerr(df,modelOrder,k,splitseed):\n",
    "    errorterms = np.zeros((k))\n",
    "    \n",
    "    # Shuffle the data\n",
    "    df_shuffled = df.sample(frac=1, random_state=splitseed).reset_index(drop=True)\n",
    "    \n",
    "    \n",
    "    # For each validation fold possible:\n",
    "    for fold in range( k ):\n",
    "        \n",
    "        # Create fresh train and val sets\n",
    "        train_set = df_shuffled\n",
    "        val_set = df_shuffled\n",
    "            \n",
    "        # If the row is a mod of the k-folds, then drop from train_set\n",
    "        # Otherwise, drop from val_set \n",
    "        for row in range( len( df ) ):\n",
    "\n",
    "            if ( row % k  == fold ):\n",
    "                train_set = train_set.drop( [ row ] )\n",
    "            else:\n",
    "                val_set = val_set.drop( [ row ] )\n",
    "                \n",
    "        # Make design matrix for training data\n",
    "        X = polyDesignMatrix( train_set['x'], modelOrder)\n",
    "\n",
    "        # Get the betas using the training set\n",
    "        betas = getOLScoefficients( X, train_set['y'] )\n",
    "\n",
    "        # Get the design matrix for the validation set\n",
    "        X_val = polyDesignMatrix( val_set['x'], modelOrder )\n",
    "\n",
    "        # Get y preds using the validation set\n",
    "        yhat = getOLSpredictions( X_val, betas )\n",
    "\n",
    "        # Convert y data into a column vector\n",
    "        y = np.array([np.array(val_set['y'].values)]).T\n",
    "\n",
    "        # Actual y minus predicted y of the validation set\n",
    "        ydiff = y - yhat\n",
    "\n",
    "        # Find the RSS\n",
    "        yDiffT = ydiff.T\n",
    "        rss = np.dot( yDiffT, ydiff)\n",
    "\n",
    "        # Find the MSE\n",
    "        MSE = rss / len(val_set.index)\n",
    "    \n",
    "        errorterms[fold]=MSE[0][0]\n",
    "        \n",
    "    return errorterms\n"
   ]
  },
  {
   "cell_type": "markdown",
   "metadata": {},
   "source": [
    "## STEP 9 (compute and collect MSEs from validation methods):"
   ]
  },
  {
   "cell_type": "code",
   "execution_count": null,
   "metadata": {},
   "outputs": [
    {
     "name": "stderr",
     "output_type": "stream",
     "text": [
      "C:\\ProgramData\\Anaconda3\\lib\\site-packages\\ipykernel_launcher.py:16: FutureWarning: arrays to stack must be passed as a \"sequence\" type such as list or tuple. Support for non-sequence iterables such as generators is deprecated as of NumPy 1.16 and will raise an error in the future.\n",
      "  app.launch_new_instance()\n"
     ]
    }
   ],
   "source": [
    "seed_count = 10\n",
    "seeds = np.arange(1,seed_count+1) #use seed vals 1...10\n",
    "val_set_MSEs=np.zeros((maxorder,seed_count))\n",
    "five_fold_CV_MSEs = np.zeros((maxorder,seed_count))\n",
    "ten_fold_CV_MSEs = np.zeros((maxorder,seed_count))\n",
    "\n",
    "\n",
    "for seed_index,seed in enumerate(seeds):\n",
    "    val_set = []\n",
    "    five_fold = []\n",
    "    ten_fold = []\n",
    "    \n",
    "    for model_index,model in enumerate(orders):\n",
    "        val_set_MSEs[model_index,seed_index]=VALSETerr( df1, model, seed ) \n",
    "        five_fold_CV_MSEs[model_index,seed_index] = st.mean(KFOLDerr( df1, model, 5, seed ) )\n",
    "        ten_fold_CV_MSEs[model_index,seed_index] = st.mean( KFOLDerr( df1, model, 10, seed ) ) \n",
    "\n",
    "  "
   ]
  },
  {
   "cell_type": "markdown",
   "metadata": {},
   "source": [
    "## STEP 10 (build \"spaghetti\" plots of cross validation results):"
   ]
  },
  {
   "cell_type": "code",
   "execution_count": null,
   "metadata": {},
   "outputs": [],
   "source": [
    "#helper function for subplot\n",
    "def mysubplot(orders,seeds,mse_array,subplot_title):\n",
    "    for seed_index,seed in enumerate(seeds):\n",
    "        labelseed = \"Seed \" + str(seed)\n",
    "        min_mse = min(mse_array[:,seed_index]) #find the min value for mse for this seed\n",
    "        index_min = np.argmin(mse_array[:,seed_index]) #find the index of minimal mse for the order number\n",
    "        markers_on = [index_min] #marker will only be on for the best point\n",
    "        plt.plot( orders, mse_array[:,seed_index], marker='o', markevery=markers_on, label=labelseed )\n",
    "    \n",
    "    plt.title(subplot_title)\n",
    "    plt.legend(loc='best')\n",
    "    plt.xlabel('Model Order')\n",
    "    plt.ylabel('MSE')\n",
    "    \n",
    "\n",
    "fig = plt.figure(figsize=(12,20))\n",
    "plt.subplots_adjust(hspace=.3) #add some space between subplots to separate titles and axis labels\n",
    "\n",
    "# For each plot, create a subplot and plot the data\n",
    "plt.subplot(3, 1, 1)\n",
    "mysubplot(orders,seeds,val_set_MSEs,\"Validation Set\")\n",
    "\n",
    "plt.subplot(3, 1, 2)\n",
    "mysubplot(orders,seeds,five_fold_CV_MSEs,\"5-fold CV\")\n",
    "\n",
    "plt.subplot(3, 1, 3)\n",
    "mysubplot(orders,seeds,ten_fold_CV_MSEs,\"10-fold CV\")\n",
    "\n",
    "\n"
   ]
  },
  {
   "cell_type": "markdown",
   "metadata": {},
   "source": [
    "## STEP 11 (human estimate of most reliable validation technique):"
   ]
  },
  {
   "cell_type": "code",
   "execution_count": 16,
   "metadata": {},
   "outputs": [
    {
     "data": {
      "text/plain": [
       "Text(0.5, 1.0, 'Variance in MSE estimates for Validaiton Methods')"
      ]
     },
     "execution_count": 16,
     "metadata": {},
     "output_type": "execute_result"
    },
    {
     "data": {
      "image/png": "[encoded data removed]",
      "text/plain": [
       "<Figure size 864x720 with 1 Axes>"
      ]
     },
     "metadata": {
      "needs_background": "light"
     },
     "output_type": "display_data"
    }
   ],
   "source": [
    "#optional additional code for reliablity determination using variance - \n",
    "\n",
    "#take variance across the seeds for each val method\n",
    "val_set_var = np.var(val_set_MSEs,axis=1)\n",
    "five_fold_var = np.var(five_fold_CV_MSEs,axis=1)\n",
    "ten_fold_var = np.var(ten_fold_CV_MSEs,axis=1)\n",
    "\n",
    "#plot lines for each model variance\n",
    "fig = plt.figure(figsize=(12,10))\n",
    "plt.plot( val_set_var,  marker='o',label=\"Val set variance\" )\n",
    "plt.plot( five_fold_var,  marker='o',label = \"5-fold variance\" )\n",
    "plt.plot( ten_fold_var,  marker='o',label = \"10-fold variance\" )\n",
    "plt.legend(loc='best')\n",
    "plt.xlabel('Model Order')\n",
    "plt.ylabel('Variance in MSE estimate for 10 iterations of validation')\n",
    "plt.title('Variance in MSE estimates for Validaiton Methods')\n",
    "\n"
   ]
  },
  {
   "cell_type": "markdown",
   "metadata": {},
   "source": [
    "### Step 11 text answer below\n",
    "We can use variance in the estimate as a measure of reliability; the lower the variance of the MSEs computed from the different seeds, the more reliable our decision of which order is best should be.  Using this as our reliability criteria, the most reliable validation technique is K-fold (10-fold cross validation is the most reliable for all orders). This validation technique has low variability on estimated error rate for unseen observations. Of these three validation methods, Ten-fold cross validation technique probably performs slightly better because it uses more data for training (9/10 of the data) and has less chance for a statistical sample bias. "
   ]
  },
  {
   "cell_type": "markdown",
   "metadata": {},
   "source": [
    "## STEP 12 (algorithmic determination of best-order model from most reliable val method) :"
   ]
  },
  {
   "cell_type": "code",
   "execution_count": 17,
   "metadata": {},
   "outputs": [
    {
     "name": "stdout",
     "output_type": "stream",
     "text": [
      "best orders per seed: [2. 2. 2. 2. 2. 2. 2. 2. 2. 2.]\n",
      "cumulative counts of best orders:  [ 0. 10.  0.  0.  0.  0.  0.]\n",
      "The best order is model: 2\n"
     ]
    },
    {
     "data": {
      "image/png": "[encoded data removed]",
      "text/plain": [
       "<Figure size 432x288 with 1 Axes>"
      ]
     },
     "metadata": {
      "needs_background": "light"
     },
     "output_type": "display_data"
    }
   ],
   "source": [
    "\n",
    "# To determine the best-order model, we are simply going to take whichever model has the \n",
    "# majority of the minimum points from each seed\n",
    "\n",
    "model_best_counts = np.zeros(orders.shape)\n",
    "seed_best_orders = np.zeros(seeds.shape)\n",
    "\n",
    "for seed_index,seed in enumerate(seeds):\n",
    "    # Find the min MSE in each set\n",
    "    min_mse = min(ten_fold_CV_MSEs[:,seed_index])\n",
    "    index_min = np.argmin(ten_fold_CV_MSEs[:,seed_index]) \n",
    "    seed_best_orders[seed_index] = index_min+1\n",
    "\n",
    "    model_best_counts[index_min]+=1\n",
    "    \n",
    "\n",
    "print(\"best orders per seed:\", seed_best_orders)\n",
    "print(\"cumulative counts of best orders: \", model_best_counts)\n",
    "\n",
    "best_order = np.argmax(model_best_counts)+1\n",
    "binctrs = np.arange(1,maxorder+1)\n",
    "\n",
    "#plt.hist(seed_best_orders,bins=binctrs,align=\"left\")\n",
    "plt.bar(binctrs,model_best_counts)\n",
    "\n",
    "print( \"The best order is model: \" + str( best_order ))\n"
   ]
  },
  {
   "cell_type": "markdown",
   "metadata": {},
   "source": [
    "### Step 12 text answer below\n",
    "\n",
    "All 10 of the 10-fold CrossValidation results yielded the same answer for the best model.  The best order is model 2. This result matches the hypothesis."
   ]
  },
  {
   "cell_type": "code",
   "execution_count": null,
   "metadata": {},
   "outputs": [],
   "source": []
  }
 ],
 "metadata": {
  "kernelspec": {
   "display_name": "Python 3",
   "language": "python",
   "name": "python3"
  },
  "language_info": {
   "codemirror_mode": {
    "name": "ipython",
    "version": 3
   },
   "file_extension": ".py",
   "mimetype": "text/x-python",
   "name": "python",
   "nbconvert_exporter": "python",
   "pygments_lexer": "ipython3",
   "version": "3.7.6"
  }
 },
 "nbformat": 4,
 "nbformat_minor": 4
}
