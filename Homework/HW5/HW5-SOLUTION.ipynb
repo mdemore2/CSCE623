{
 "cells": [
  {
   "cell_type": "markdown",
   "metadata": {},
   "source": [
    "# CSCE 623 Homework Assignment 5\n",
    "## Student Name:\n",
    "## Date:\n",
    "(Solution adapted from HW5 submission, Capt Justin Merrick, CSCE 623, 2019)"
   ]
  },
  {
   "cell_type": "code",
   "execution_count": 1,
   "metadata": {},
   "outputs": [
    {
     "name": "stderr",
     "output_type": "stream",
     "text": [
      "C:\\Users\\brett\\anaconda3\\lib\\site-packages\\sklearn\\utils\\deprecation.py:144: FutureWarning: The sklearn.metrics.classification module is  deprecated in version 0.22 and will be removed in version 0.24. The corresponding classes / functions should instead be imported from sklearn.metrics. Anything that cannot be imported from sklearn.metrics is now part of the private API.\n",
      "  warnings.warn(message, FutureWarning)\n"
     ]
    }
   ],
   "source": [
    "import numpy as np\n",
    "import pandas as pd\n",
    "import seaborn as sns\n",
    "import matplotlib.pyplot as plt\n",
    "from collections import defaultdict\n",
    "\n",
    "# yellowbrick details:    https://www.scikit-yb.org/en/latest/quickstart.html\n",
    "from yellowbrick.features import Rank2D\n",
    "from yellowbrick.target import FeatureCorrelation\n",
    "from yellowbrick.regressor import ResidualsPlot\n",
    "#from yellowbrick.features.importances import FeatureImportances\n",
    "from yellowbrick.model_selection import FeatureImportances\n",
    "\n",
    "from matplotlib.ticker import MaxNLocator\n",
    "from matplotlib.colors import LogNorm\n",
    "\n",
    "from sklearn.model_selection import train_test_split, KFold, cross_validate\n",
    "from sklearn.base import clone\n",
    "\n",
    "from sklearn.ensemble import RandomForestRegressor as RFR\n",
    "from sklearn.metrics import mean_squared_error as MSE\n",
    "%matplotlib inline"
   ]
  },
  {
   "cell_type": "markdown",
   "metadata": {},
   "source": [
    "# Load and Preprocess the data"
   ]
  },
  {
   "cell_type": "markdown",
   "metadata": {},
   "source": [
    "## STEP 0. \n",
    "(instructor provided) Load the ILSR_hitters.csv dataset.  Remove the observations for whom the salary information is unknown, and then "
   ]
  },
  {
   "cell_type": "code",
   "execution_count": 2,
   "metadata": {},
   "outputs": [
    {
     "data": {
      "text/html": [
       "<div>\n",
       "<style scoped>\n",
       "    .dataframe tbody tr th:only-of-type {\n",
       "        vertical-align: middle;\n",
       "    }\n",
       "\n",
       "    .dataframe tbody tr th {\n",
       "        vertical-align: top;\n",
       "    }\n",
       "\n",
       "    .dataframe thead th {\n",
       "        text-align: right;\n",
       "    }\n",
       "</style>\n",
       "<table border=\"1\" class=\"dataframe\">\n",
       "  <thead>\n",
       "    <tr style=\"text-align: right;\">\n",
       "      <th></th>\n",
       "      <th>AtBat</th>\n",
       "      <th>Hits</th>\n",
       "      <th>HmRun</th>\n",
       "      <th>Runs</th>\n",
       "      <th>RBI</th>\n",
       "      <th>Walks</th>\n",
       "      <th>Years</th>\n",
       "      <th>CAtBat</th>\n",
       "      <th>CHits</th>\n",
       "      <th>CHmRun</th>\n",
       "      <th>CRuns</th>\n",
       "      <th>CRBI</th>\n",
       "      <th>CWalks</th>\n",
       "      <th>League</th>\n",
       "      <th>Division</th>\n",
       "      <th>PutOuts</th>\n",
       "      <th>Assists</th>\n",
       "      <th>Errors</th>\n",
       "      <th>Salary</th>\n",
       "    </tr>\n",
       "  </thead>\n",
       "  <tbody>\n",
       "    <tr>\n",
       "      <th>0</th>\n",
       "      <td>315</td>\n",
       "      <td>81</td>\n",
       "      <td>7</td>\n",
       "      <td>24</td>\n",
       "      <td>38</td>\n",
       "      <td>39</td>\n",
       "      <td>14</td>\n",
       "      <td>3449</td>\n",
       "      <td>835</td>\n",
       "      <td>69</td>\n",
       "      <td>321</td>\n",
       "      <td>414</td>\n",
       "      <td>375</td>\n",
       "      <td>1</td>\n",
       "      <td>1</td>\n",
       "      <td>632</td>\n",
       "      <td>43</td>\n",
       "      <td>10</td>\n",
       "      <td>475.0</td>\n",
       "    </tr>\n",
       "    <tr>\n",
       "      <th>1</th>\n",
       "      <td>479</td>\n",
       "      <td>130</td>\n",
       "      <td>18</td>\n",
       "      <td>66</td>\n",
       "      <td>72</td>\n",
       "      <td>76</td>\n",
       "      <td>3</td>\n",
       "      <td>1624</td>\n",
       "      <td>457</td>\n",
       "      <td>63</td>\n",
       "      <td>224</td>\n",
       "      <td>266</td>\n",
       "      <td>263</td>\n",
       "      <td>0</td>\n",
       "      <td>1</td>\n",
       "      <td>880</td>\n",
       "      <td>82</td>\n",
       "      <td>14</td>\n",
       "      <td>480.0</td>\n",
       "    </tr>\n",
       "    <tr>\n",
       "      <th>2</th>\n",
       "      <td>496</td>\n",
       "      <td>141</td>\n",
       "      <td>20</td>\n",
       "      <td>65</td>\n",
       "      <td>78</td>\n",
       "      <td>37</td>\n",
       "      <td>11</td>\n",
       "      <td>5628</td>\n",
       "      <td>1575</td>\n",
       "      <td>225</td>\n",
       "      <td>828</td>\n",
       "      <td>838</td>\n",
       "      <td>354</td>\n",
       "      <td>1</td>\n",
       "      <td>0</td>\n",
       "      <td>200</td>\n",
       "      <td>11</td>\n",
       "      <td>3</td>\n",
       "      <td>500.0</td>\n",
       "    </tr>\n",
       "    <tr>\n",
       "      <th>3</th>\n",
       "      <td>321</td>\n",
       "      <td>87</td>\n",
       "      <td>10</td>\n",
       "      <td>39</td>\n",
       "      <td>42</td>\n",
       "      <td>30</td>\n",
       "      <td>2</td>\n",
       "      <td>396</td>\n",
       "      <td>101</td>\n",
       "      <td>12</td>\n",
       "      <td>48</td>\n",
       "      <td>46</td>\n",
       "      <td>33</td>\n",
       "      <td>1</td>\n",
       "      <td>0</td>\n",
       "      <td>805</td>\n",
       "      <td>40</td>\n",
       "      <td>4</td>\n",
       "      <td>91.5</td>\n",
       "    </tr>\n",
       "    <tr>\n",
       "      <th>4</th>\n",
       "      <td>594</td>\n",
       "      <td>169</td>\n",
       "      <td>4</td>\n",
       "      <td>74</td>\n",
       "      <td>51</td>\n",
       "      <td>35</td>\n",
       "      <td>11</td>\n",
       "      <td>4408</td>\n",
       "      <td>1133</td>\n",
       "      <td>19</td>\n",
       "      <td>501</td>\n",
       "      <td>336</td>\n",
       "      <td>194</td>\n",
       "      <td>0</td>\n",
       "      <td>1</td>\n",
       "      <td>282</td>\n",
       "      <td>421</td>\n",
       "      <td>25</td>\n",
       "      <td>750.0</td>\n",
       "    </tr>\n",
       "  </tbody>\n",
       "</table>\n",
       "</div>"
      ],
      "text/plain": [
       "   AtBat  Hits  HmRun  Runs  RBI  Walks  Years  CAtBat  CHits  CHmRun  CRuns  \\\n",
       "0    315    81      7    24   38     39     14    3449    835      69    321   \n",
       "1    479   130     18    66   72     76      3    1624    457      63    224   \n",
       "2    496   141     20    65   78     37     11    5628   1575     225    828   \n",
       "3    321    87     10    39   42     30      2     396    101      12     48   \n",
       "4    594   169      4    74   51     35     11    4408   1133      19    501   \n",
       "\n",
       "   CRBI  CWalks  League  Division  PutOuts  Assists  Errors  Salary  \n",
       "0   414     375       1         1      632       43      10   475.0  \n",
       "1   266     263       0         1      880       82      14   480.0  \n",
       "2   838     354       1         0      200       11       3   500.0  \n",
       "3    46      33       1         0      805       40       4    91.5  \n",
       "4   336     194       0         1      282      421      25   750.0  "
      ]
     },
     "execution_count": 2,
     "metadata": {},
     "output_type": "execute_result"
    }
   ],
   "source": [
    "# STEP 0  - Load data & convert categorical features - instructor provided code\n",
    "\n",
    "state = 1  #random seed\n",
    "Hitters = pd.read_csv('ISLR_Hitters.csv',index_col=0)\n",
    "Hitters = Hitters.dropna(how='any')\n",
    "Hitters = Hitters.reset_index()\n",
    "\n",
    "Hitters = Hitters.drop(['index'],axis=1)\n",
    "Hitters['League'] = Hitters['League'].map({'A': 0, 'N': 1})\n",
    "Hitters['Division'] = Hitters['Division'].map({'E': 0, 'W': 1})\n",
    "Hitters = Hitters.drop(['NewLeague'],axis=1)\n",
    "\n",
    "Hitters.head()\n"
   ]
  },
  {
   "cell_type": "markdown",
   "metadata": {},
   "source": [
    "## STEP 1.  Build functions for log transforming salaries \n",
    "\n",
    "Student Code Required\n",
    "\n",
    "Log-transform the salaries (salaries listed are in $1000’s).  Note that you will need to account for this log-transformation when presenting your results (transform your precisions, loss, MSE, improvement, etc. back to real salary dollars when possible)"
   ]
  },
  {
   "cell_type": "code",
   "execution_count": 3,
   "metadata": {},
   "outputs": [],
   "source": [
    "#STEP1 \n",
    "\n",
    "# helper functions for transformation\n",
    "# the transformed salary should work better for model fitting\n",
    "def salary_transform(salary):\n",
    "    transformed_salary = np.log10(salary)  #PLACEHOLDER ONLY ---> STUDENT COMPLETE THIS CODE TO TRANSFORM SALARY\n",
    "    return transformed_salary\n",
    "\n",
    "# the untransformed salary is needed for test set performance reporting and residuals analysis\n",
    "def salary_untransform(transformed_salary):\n",
    "    salary = 10**transformed_salary  #PLACEHOLDER ONLY ---> STUDENT COMPLETE THIS CODE TO UNTRANSFORM SALARY\n",
    "    return salary\n",
    "\n",
    "#transform the salary\n",
    "Hitters['Salary'] = salary_transform(Hitters.Salary)\n",
    "\n",
    "# note that this block will give an error until the salary component is filled out"
   ]
  },
  {
   "cell_type": "markdown",
   "metadata": {},
   "source": [
    "# STEP 2.\n",
    "(Code Provided) Using sklearn.model_selection.train_test_split with random_state = 1,  create a “non-test” set consisting of 200 observations and a test set consisting of the remaining observations.  Sequester the test set until  the performance reporting steps (9-11)."
   ]
  },
  {
   "cell_type": "code",
   "execution_count": 4,
   "metadata": {},
   "outputs": [
    {
     "data": {
      "text/html": [
       "<div>\n",
       "<style scoped>\n",
       "    .dataframe tbody tr th:only-of-type {\n",
       "        vertical-align: middle;\n",
       "    }\n",
       "\n",
       "    .dataframe tbody tr th {\n",
       "        vertical-align: top;\n",
       "    }\n",
       "\n",
       "    .dataframe thead th {\n",
       "        text-align: right;\n",
       "    }\n",
       "</style>\n",
       "<table border=\"1\" class=\"dataframe\">\n",
       "  <thead>\n",
       "    <tr style=\"text-align: right;\">\n",
       "      <th></th>\n",
       "      <th>AtBat</th>\n",
       "      <th>Hits</th>\n",
       "      <th>HmRun</th>\n",
       "      <th>Runs</th>\n",
       "      <th>RBI</th>\n",
       "      <th>Walks</th>\n",
       "      <th>Years</th>\n",
       "      <th>CAtBat</th>\n",
       "      <th>CHits</th>\n",
       "      <th>CHmRun</th>\n",
       "      <th>CRuns</th>\n",
       "      <th>CRBI</th>\n",
       "      <th>CWalks</th>\n",
       "      <th>League</th>\n",
       "      <th>Division</th>\n",
       "      <th>PutOuts</th>\n",
       "      <th>Assists</th>\n",
       "      <th>Errors</th>\n",
       "      <th>Salary</th>\n",
       "    </tr>\n",
       "  </thead>\n",
       "  <tbody>\n",
       "    <tr>\n",
       "      <th>228</th>\n",
       "      <td>528</td>\n",
       "      <td>122</td>\n",
       "      <td>1</td>\n",
       "      <td>67</td>\n",
       "      <td>45</td>\n",
       "      <td>51</td>\n",
       "      <td>4</td>\n",
       "      <td>1716</td>\n",
       "      <td>403</td>\n",
       "      <td>12</td>\n",
       "      <td>211</td>\n",
       "      <td>146</td>\n",
       "      <td>155</td>\n",
       "      <td>0</td>\n",
       "      <td>1</td>\n",
       "      <td>209</td>\n",
       "      <td>372</td>\n",
       "      <td>17</td>\n",
       "      <td>2.544068</td>\n",
       "    </tr>\n",
       "    <tr>\n",
       "      <th>29</th>\n",
       "      <td>379</td>\n",
       "      <td>106</td>\n",
       "      <td>10</td>\n",
       "      <td>38</td>\n",
       "      <td>60</td>\n",
       "      <td>30</td>\n",
       "      <td>14</td>\n",
       "      <td>6207</td>\n",
       "      <td>1906</td>\n",
       "      <td>146</td>\n",
       "      <td>859</td>\n",
       "      <td>803</td>\n",
       "      <td>571</td>\n",
       "      <td>1</td>\n",
       "      <td>1</td>\n",
       "      <td>72</td>\n",
       "      <td>170</td>\n",
       "      <td>24</td>\n",
       "      <td>2.929419</td>\n",
       "    </tr>\n",
       "    <tr>\n",
       "      <th>0</th>\n",
       "      <td>315</td>\n",
       "      <td>81</td>\n",
       "      <td>7</td>\n",
       "      <td>24</td>\n",
       "      <td>38</td>\n",
       "      <td>39</td>\n",
       "      <td>14</td>\n",
       "      <td>3449</td>\n",
       "      <td>835</td>\n",
       "      <td>69</td>\n",
       "      <td>321</td>\n",
       "      <td>414</td>\n",
       "      <td>375</td>\n",
       "      <td>1</td>\n",
       "      <td>1</td>\n",
       "      <td>632</td>\n",
       "      <td>43</td>\n",
       "      <td>10</td>\n",
       "      <td>2.676694</td>\n",
       "    </tr>\n",
       "    <tr>\n",
       "      <th>177</th>\n",
       "      <td>381</td>\n",
       "      <td>110</td>\n",
       "      <td>9</td>\n",
       "      <td>61</td>\n",
       "      <td>45</td>\n",
       "      <td>32</td>\n",
       "      <td>7</td>\n",
       "      <td>3015</td>\n",
       "      <td>834</td>\n",
       "      <td>40</td>\n",
       "      <td>451</td>\n",
       "      <td>249</td>\n",
       "      <td>168</td>\n",
       "      <td>1</td>\n",
       "      <td>0</td>\n",
       "      <td>228</td>\n",
       "      <td>7</td>\n",
       "      <td>5</td>\n",
       "      <td>2.903090</td>\n",
       "    </tr>\n",
       "    <tr>\n",
       "      <th>122</th>\n",
       "      <td>309</td>\n",
       "      <td>94</td>\n",
       "      <td>5</td>\n",
       "      <td>37</td>\n",
       "      <td>32</td>\n",
       "      <td>26</td>\n",
       "      <td>13</td>\n",
       "      <td>4618</td>\n",
       "      <td>1330</td>\n",
       "      <td>57</td>\n",
       "      <td>616</td>\n",
       "      <td>522</td>\n",
       "      <td>436</td>\n",
       "      <td>1</td>\n",
       "      <td>0</td>\n",
       "      <td>161</td>\n",
       "      <td>3</td>\n",
       "      <td>3</td>\n",
       "      <td>2.778151</td>\n",
       "    </tr>\n",
       "  </tbody>\n",
       "</table>\n",
       "</div>"
      ],
      "text/plain": [
       "     AtBat  Hits  HmRun  Runs  RBI  Walks  Years  CAtBat  CHits  CHmRun  \\\n",
       "228    528   122      1    67   45     51      4    1716    403      12   \n",
       "29     379   106     10    38   60     30     14    6207   1906     146   \n",
       "0      315    81      7    24   38     39     14    3449    835      69   \n",
       "177    381   110      9    61   45     32      7    3015    834      40   \n",
       "122    309    94      5    37   32     26     13    4618   1330      57   \n",
       "\n",
       "     CRuns  CRBI  CWalks  League  Division  PutOuts  Assists  Errors    Salary  \n",
       "228    211   146     155       0         1      209      372      17  2.544068  \n",
       "29     859   803     571       1         1       72      170      24  2.929419  \n",
       "0      321   414     375       1         1      632       43      10  2.676694  \n",
       "177    451   249     168       1         0      228        7       5  2.903090  \n",
       "122    616   522     436       1         0      161        3       3  2.778151  "
      ]
     },
     "execution_count": 4,
     "metadata": {},
     "output_type": "execute_result"
    }
   ],
   "source": [
    "Hitters_nonTest, Hitters_test = train_test_split(Hitters, train_size = 200, random_state=1)\n",
    "Hitters_nonTest.head()"
   ]
  },
  {
   "cell_type": "markdown",
   "metadata": {},
   "source": [
    "# Explore the data & make hypotheses"
   ]
  },
  {
   "cell_type": "markdown",
   "metadata": {},
   "source": [
    "## STEP 3.\n",
    "Explore the data.  Use plots and discuss relationships between available features and Salary.  Consider using the seaborn package to facilitate your exploration – for example, make a heatmap plot of the correlation between each pair of features to help you decide which pairs of features to explore further with pairs plots or scatterplots.  Make at least one hypothesis about which features will be useful in predicting salary.  "
   ]
  },
  {
   "cell_type": "code",
   "execution_count": 5,
   "metadata": {},
   "outputs": [
    {
     "data": {
      "image/png": "[encoded data removed]",
      "text/plain": [
       "<Figure size 1080x720 with 2 Axes>"
      ]
     },
     "metadata": {
      "needs_background": "light"
     },
     "output_type": "display_data"
    },
    {
     "name": "stderr",
     "output_type": "stream",
     "text": [
      "C:\\Users\\brett\\anaconda3\\lib\\site-packages\\sklearn\\base.py:197: FutureWarning: From version 0.24, get_params will raise an AttributeError if a parameter cannot be retrieved as an instance attribute. Previously it would return None.\n",
      "  FutureWarning)\n"
     ]
    },
    {
     "data": {
      "image/png": "[encoded data removed]",
      "text/plain": [
       "<Figure size 1080x720 with 1 Axes>"
      ]
     },
     "metadata": {
      "needs_background": "light"
     },
     "output_type": "display_data"
    },
    {
     "data": {
      "text/plain": [
       "<matplotlib.axes._subplots.AxesSubplot at 0x188b50969c8>"
      ]
     },
     "execution_count": 5,
     "metadata": {},
     "output_type": "execute_result"
    }
   ],
   "source": [
    "features = Hitters_nonTest.drop('Salary', axis=1)\n",
    "targets = Hitters_nonTest['Salary']\n",
    "corr_viz = Rank2D(features=features.columns.values, algorithm='pearson', size=(1080,720))\n",
    "corr_viz.fit(features, targets)\n",
    "corr_viz.transform(features)\n",
    "corr_viz.poof()\n",
    "\n",
    "tar_corr = FeatureCorrelation(labels=features.columns.values, size=(1080,720))\n",
    "tar_corr.fit(features, targets)\n",
    "tar_corr.poof()"
   ]
  },
  {
   "cell_type": "markdown",
   "metadata": {},
   "source": [
    "As when working with this dataset in HW4, there are two main blocks of features that are highly correlated with one another, an in-season stats and a career stats block. By using this knowledge and the correlation plot with the dependent variable shown above, it becomes clear that at least one of the features CRBI, CRuns, CHits, and CAtBat will likely be used in any model that hopes to have a degree of success. It also becomes clear why PutOuts was seen in models with more features, as it has a moderate correlation with Salary while also having a low to moderate correlation with the other features. The reason for Division being in most of the models in HW4 is also more clear, as it is the feature with the strongest negative correlation with Salary and thus it likely can account for variance that cannot be accounted for with other features."
   ]
  },
  {
   "cell_type": "markdown",
   "metadata": {},
   "source": [
    "# Train the model & Tune Hyperparameters using Cross-Validation"
   ]
  },
  {
   "cell_type": "markdown",
   "metadata": {},
   "source": [
    "## STEP 4.\n",
    "Using sklearn k-fold split (sklearn.model_selection.KFold), write code to set up a k-fold cross-validation with the goal of choosing the best hyperparameters for a random forest model (sklearn.ensemble.RandomForestRegressor)     Select and provide rationale for your choice for n_splits based on amount of data you have available in the non-test set.  Your goal is to determine the best combination of two parameters: maximum tree depth (max_depth), and the number of features to consider at each split (max_features).   The hyperparameter  max_depth of the trees should include integer values from 1 to 20, and your exploration over max_features should include values from 1 to p (all features).  You can decide whether to fix the number of trees (n_estimators) or include it as a third hyperparameter to explore (it should start with at least 100 but you may want to explore higher values if you will tune this hyperparameter with cross-validation) – then explain whether you are selecting a specific value or tuning this value with cross validation.   Since you will use a cross-validation wrapper to tune hyperparameters, set oob_score to False in the initialization call to RandomForestRegressor.   For each tuple of (max_depth, max_features), compute and collect the mean k-fold cross-validation MSE using predict().  "
   ]
  },
  {
   "cell_type": "code",
   "execution_count": 6,
   "metadata": {},
   "outputs": [],
   "source": [
    "depths = np.arange(1,20+1)\n",
    "num_features = np.arange(1,len(features.columns.values))\n",
    "combos = np.array(np.meshgrid(depths, num_features)).T.reshape(-1,2)\n",
    "num_trees = 200\n",
    "mses = []\n",
    "for combo in combos:\n",
    "    estimator = RFR(n_estimators=num_trees, max_depth=combo[0], max_features=combo[1], random_state=state)\n",
    "    val_results = cross_validate(estimator, features, targets, scoring='neg_mean_squared_error', cv=5, n_jobs=-1)\n",
    "    mean_mse = np.abs(val_results['test_score']).mean()\n",
    "    mses.append(mean_mse)\n",
    "\n",
    "mses = np.array(mses)\n",
    "best_mse = mses.min()\n",
    "bestcombo = combos[np.argmin(mses)]"
   ]
  },
  {
   "cell_type": "markdown",
   "metadata": {},
   "source": [
    "## STEP 5. \n",
    "Provide convincing visual evidence of the validation MSE performance (from step 5) as a function of max_features and max_depth (and n_estimators if you chose to tune it).    A good way to do this is to plot the error on a graph as a function of the two dimensions max_depth and max_features.  Contour maps work here."
   ]
  },
  {
   "cell_type": "code",
   "execution_count": 7,
   "metadata": {},
   "outputs": [
    {
     "data": {
      "image/png": "[encoded data removed]",
      "text/plain": [
       "<Figure size 864x648 with 2 Axes>"
      ]
     },
     "metadata": {
      "needs_background": "light"
     },
     "output_type": "display_data"
    }
   ],
   "source": [
    "xx, yy = np.meshgrid(depths, num_features)\n",
    "fig, ax = plt.subplots(figsize=(12,9))\n",
    "cons = ax.contourf(xx, yy, mses.reshape(-1, len(depths)), cmap='viridis')\n",
    "\n",
    "ax.plot(bestcombo[0],bestcombo[1], marker='D', markersize=8, color='w')\n",
    "ax.annotate('Best MSE (%.4f)' %best_mse, bestcombo, bestcombo+0.25, color='w')\n",
    "ax.set_xticks(range(2,22,2))\n",
    "ax.set_yticks(range(1,18,2))\n",
    "ax.set_ylabel('Number of features')\n",
    "ax.set_xlabel('Maximum Tree Depth')\n",
    "fig.colorbar(cons)\n",
    "plt.show();"
   ]
  },
  {
   "cell_type": "markdown",
   "metadata": {},
   "source": [
    "## STEP 6.\n",
    "Using code, determine, display visually, and report the values of these parameters with the lowest MSE.  Discuss the minimum value of max_features in light of the random forest recommendation for max_features: sqrt(p) or p/3.  Did your result agree with the general guidance on max features?"
   ]
  },
  {
   "cell_type": "markdown",
   "metadata": {},
   "source": [
    "From the contour plot above we can see that the best MSE (0.364) occurs with 4 features considered per split and a maximum tree depth of 14 splits. With 17 total features, 4 features is the closest integer to $\\sqrt{17}$. Above 4 features, there is little variation in the MSE, nor is there significant variation in the MSE when examining tree depth at or above 4 features. This is as hypothesized, though the best number of splits at 14 is on the higher end, it matches with the guidance that the trees in a random forest should be grown deeply."
   ]
  },
  {
   "cell_type": "markdown",
   "metadata": {},
   "source": [
    "## STEP 7.\n",
    "Using the best values of  max_features and max_depth found with MSE, fit a new RandomForestRegressor model trained on all the non-test data."
   ]
  },
  {
   "cell_type": "code",
   "execution_count": 8,
   "metadata": {},
   "outputs": [
    {
     "data": {
      "text/plain": [
       "RandomForestRegressor(bootstrap=True, ccp_alpha=0.0, criterion='mse',\n",
       "                      max_depth=15, max_features=4, max_leaf_nodes=None,\n",
       "                      max_samples=None, min_impurity_decrease=0.0,\n",
       "                      min_impurity_split=None, min_samples_leaf=1,\n",
       "                      min_samples_split=2, min_weight_fraction_leaf=0.0,\n",
       "                      n_estimators=200, n_jobs=-1, oob_score=False,\n",
       "                      random_state=1, verbose=0, warm_start=False)"
      ]
     },
     "execution_count": 8,
     "metadata": {},
     "output_type": "execute_result"
    }
   ],
   "source": [
    "best_estimator = RFR(n_estimators=num_trees, max_depth=bestcombo[0], max_features=bestcombo[1], random_state=state, n_jobs=-1)\n",
    "best_estimator.fit(features, targets)"
   ]
  },
  {
   "cell_type": "markdown",
   "metadata": {},
   "source": [
    "# Reporting performance on the Test Set"
   ]
  },
  {
   "cell_type": "markdown",
   "metadata": {},
   "source": [
    "## STEP 8.\n",
    "Using code, determine and report the quality of the model for predicting salary on the sequestered test set.  Don’t forget to handle the log transformation you did in data preprocessing – your performance values should be based on real dollars (not log-transformed dollars).  "
   ]
  },
  {
   "cell_type": "code",
   "execution_count": 9,
   "metadata": {},
   "outputs": [
    {
     "name": "stdout",
     "output_type": "stream",
     "text": [
      "Test MSE: 107712.13344424935\n"
     ]
    }
   ],
   "source": [
    "test_features = Hitters_test.drop('Salary', axis=1)\n",
    "test_targets = salary_untransform(Hitters_test.Salary)\n",
    "yhat = best_estimator.predict(test_features)\n",
    "test_predicts = salary_untransform(yhat)\n",
    "test_mse = MSE(test_targets, test_predicts)\n",
    "print('Test MSE:', test_mse)"
   ]
  },
  {
   "cell_type": "markdown",
   "metadata": {},
   "source": [
    "## STEP 9.\n",
    "Develop a scatterplot of the regression residuals:  The figure’s x axis expresses the true dollar amount of salary, the figure’s y axis represents the prediction error (positive values mean underprediction, negative values mean overprediction, and y=0 would mean correct prediction).   Discuss these residuals.  Are they evenly distributed about y=0 through the range of possible true salaries?  Do you see any patterns which would suggest true salaries for which prediction would be poor?"
   ]
  },
  {
   "cell_type": "code",
   "execution_count": 10,
   "metadata": {},
   "outputs": [
    {
     "data": {
      "image/png": "[encoded data removed]",
      "text/plain": [
       "<Figure size 864x648 with 2 Axes>"
      ]
     },
     "metadata": {
      "needs_background": "light"
     },
     "output_type": "display_data"
    }
   ],
   "source": [
    "residuals = test_targets - test_predicts\n",
    "fig = plt.figure(figsize=(12,9))\n",
    "ax = plt.subplot2grid((1,4), (0,0), colspan=3)\n",
    "hax = plt.subplot2grid((1,4), (0,3))\n",
    "hax.set_sharey = ax\n",
    "ax.scatter(test_predicts, residuals, alpha=0.75)\n",
    "ax.set_ylabel('Residuals')\n",
    "ax.set_xlabel('Predicted Salary (Thousands of $)')\n",
    "ax.axhline(y=0, c='k')\n",
    "hax.hist(residuals, bins=15, orientation='horizontal')\n",
    "hax.axhline(y=0, c='k')\n",
    "hax.set_xlabel('Distribution')\n",
    "hax.set_yticklabels([])\n",
    "hax.grid(False, axis='x')"
   ]
  },
  {
   "cell_type": "code",
   "execution_count": 11,
   "metadata": {},
   "outputs": [
    {
     "name": "stdout",
     "output_type": "stream",
     "text": [
      "overpredicted observation count  30\n",
      "underpredcited observation count  33\n"
     ]
    }
   ],
   "source": [
    "print(\"overpredicted observation count \",(residuals < 0).sum())\n",
    "print(\"underpredcited observation count \",(residuals > 0).sum())"
   ]
  },
  {
   "cell_type": "markdown",
   "metadata": {},
   "source": [
    "The residuals lie predominantly in the neighborhood of zero and are evenly distributed in number about this mode. However, the positive tail of the distribution is nearly 3x longer than the negative tail, indicating that when the model underpredicts, it does so by a significant amount. This skewed tail and a large mode make it unlikely that the residuals are distributed normally. Additionally, there appears to be some heteroscedasticity to the true salary, as indicated by the increasing magnitude of the residuals as the predicted salary increases. This likely drove the log-transform originally performed on the data. Regardless, random forests are significantly negatively affected by heteroscedasticity, even with the use of transformed data for the model-fitting. This partially explains the large MSE observed."
   ]
  },
  {
   "cell_type": "markdown",
   "metadata": {},
   "source": [
    "## STEP 10.\n",
    "Using the model, report on variable importance - which variables appear to be the most important predictors in the model?  Using the sklearn feature_importance_ attribute of the best fitted model, provide numerical and visual evidence to support your answer (make sure to sort your outputs by feature importance)."
   ]
  },
  {
   "cell_type": "code",
   "execution_count": 12,
   "metadata": {},
   "outputs": [
    {
     "name": "stderr",
     "output_type": "stream",
     "text": [
      "C:\\Users\\brett\\anaconda3\\lib\\site-packages\\sklearn\\base.py:197: FutureWarning: From version 0.24, get_params will raise an AttributeError if a parameter cannot be retrieved as an instance attribute. Previously it would return None.\n",
      "  FutureWarning)\n"
     ]
    },
    {
     "data": {
      "image/png": "[encoded data removed]",
      "text/plain": [
       "<Figure size 1080x720 with 1 Axes>"
      ]
     },
     "metadata": {
      "needs_background": "light"
     },
     "output_type": "display_data"
    },
    {
     "data": {
      "text/plain": [
       "<matplotlib.axes._subplots.AxesSubplot at 0x188b59af808>"
      ]
     },
     "execution_count": 12,
     "metadata": {},
     "output_type": "execute_result"
    }
   ],
   "source": [
    "feat_imp = FeatureImportances(best_estimator, size=(1080,720))\n",
    "feat_imp.fit(features, targets)\n",
    "feat_imp.poof()"
   ]
  },
  {
   "cell_type": "markdown",
   "metadata": {},
   "source": [
    "The career statistics dominate the feature importance plot above, with CAtBat being the most important feature to the model and CHmRun being the least important career statistic. Following the career statistics, the second block of correlated features, the in-season at-bat features, are present. Following this block, the fielding features continue to have decreased importance until the League and Division features round out the plot with the least importance. Due to the high correlation between the career statistics and the in-season at-bat statistics, it is possible that this plot, which utilizes the biased measure mean decrease in impurity to determine importance, is incorrect."
   ]
  },
  {
   "cell_type": "code",
   "execution_count": 13,
   "metadata": {},
   "outputs": [],
   "source": [
    "def dropcol_importances(rf, X_train, y_train, seed): \n",
    "    rf_ = clone(rf) \n",
    "    rf_.random_state = seed \n",
    "    rf_.fit(X_train, y_train) \n",
    "    baseline = MSE(y_train, rf_.predict(X_train))\n",
    "    imp = [] \n",
    "    for col in X_train.columns: \n",
    "        X = X_train.drop(col, axis=1)\n",
    "        rf_ = clone(rf) \n",
    "        rf_.random_state = seed \n",
    "        rf_.fit(X, y_train)\n",
    "        o = MSE(y_train, rf_.predict(X))\n",
    "        imp.append(o - baseline) \n",
    "    imp = np.array(imp)\n",
    "    I = pd.DataFrame( data={'Feature':X_train.columns, 'Importance':imp}) \n",
    "    I = I.set_index('Feature') \n",
    "    I = I.sort_values('Importance', ascending=True) \n",
    "    return I"
   ]
  },
  {
   "cell_type": "code",
   "execution_count": 14,
   "metadata": {},
   "outputs": [],
   "source": [
    "drop_imps = dropcol_importances(best_estimator, features, targets, state)"
   ]
  },
  {
   "cell_type": "code",
   "execution_count": 15,
   "metadata": {},
   "outputs": [
    {
     "data": {
      "image/png": "[encoded data removed]",
      "text/plain": [
       "<Figure size 864x648 with 1 Axes>"
      ]
     },
     "metadata": {
      "needs_background": "light"
     },
     "output_type": "display_data"
    }
   ],
   "source": [
    "fig, ax = plt.subplots(figsize=(12,9))\n",
    "ax.barh(np.arange(drop_imps.shape[0]),drop_imps.Importance)\n",
    "ax.set_yticks(np.arange(drop_imps.shape[0]))\n",
    "ax.set_yticklabels(drop_imps.index.values)\n",
    "ax.set_ylabel('Features')\n",
    "ax.set_xlabel('Importance')\n",
    "ax.grid(False, axis='y')"
   ]
  },
  {
   "cell_type": "markdown",
   "metadata": {},
   "source": [
    "By examining the change in MSE that occurs when a feature is not used in the model-fitting process, a different idea of the feature importances is revealed. This interpretation of importance takes into account the collinearity of the features. From it, we can see that AtBat is the most important feature because it caused the MSE to increase the most when it was removed from the model. At the other end, League, years, CRuns, RBI, CRBI, HmRun, and CHmRun all have negative importances, meaning that removing them from the model cause the MSE to go down, meaning they are unimportant to the model."
   ]
  },
  {
   "cell_type": "markdown",
   "metadata": {},
   "source": [
    "## References\n",
    "\n",
    "For impact of heteroscedasticity on trees and forests:\n",
    "\n",
    "https://arxiv.org/pdf/1606.05273.pdf\n",
    "\n",
    "https://www.stat.sfu.ca/content/dam/sfu/stat/alumnitheses/2015/SharlaGelfandProject.pdf\n",
    "\n",
    "For information on other feature importance calculations:\n",
    "https://explained.ai/rf-importance/"
   ]
  }
 ],
 "metadata": {
  "anaconda-cloud": {},
  "kernelspec": {
   "display_name": "Python 3",
   "language": "python",
   "name": "python3"
  },
  "language_info": {
   "codemirror_mode": {
    "name": "ipython",
    "version": 3
   },
   "file_extension": ".py",
   "mimetype": "text/x-python",
   "name": "python",
   "nbconvert_exporter": "python",
   "pygments_lexer": "ipython3",
   "version": "3.7.6"
  },
  "varInspector": {
   "cols": {
    "lenName": 16,
    "lenType": 16,
    "lenVar": 40
   },
   "kernels_config": {
    "python": {
     "delete_cmd_postfix": "",
     "delete_cmd_prefix": "del ",
     "library": "var_list.py",
     "varRefreshCmd": "print(var_dic_list())"
    },
    "r": {
     "delete_cmd_postfix": ") ",
     "delete_cmd_prefix": "rm(",
     "library": "var_list.r",
     "varRefreshCmd": "cat(var_dic_list()) "
    }
   },
   "oldHeight": 477.4,
   "position": {
    "height": "214px",
    "left": "1014.2px",
    "right": "20px",
    "top": "121px",
    "width": "623px"
   },
   "types_to_exclude": [
    "module",
    "function",
    "builtin_function_or_method",
    "instance",
    "_Feature"
   ],
   "varInspector_section_display": "none",
   "window_display": false
  }
 },
 "nbformat": 4,
 "nbformat_minor": 4
}
