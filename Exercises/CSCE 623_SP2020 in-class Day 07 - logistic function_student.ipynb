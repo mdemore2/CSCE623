{
 "cells": [
  {
   "cell_type": "markdown",
   "metadata": {},
   "source": [
    "# Day 7 \n",
    "Logistic Regression In Class Work"
   ]
  },
  {
   "cell_type": "code",
   "execution_count": null,
   "metadata": {},
   "outputs": [],
   "source": [
    "import numpy as np\n",
    "import matplotlib.pyplot as plt"
   ]
  },
  {
   "cell_type": "markdown",
   "metadata": {},
   "source": [
    "Helper function"
   ]
  },
  {
   "cell_type": "code",
   "execution_count": null,
   "metadata": {},
   "outputs": [],
   "source": [
    "def plotlogistic(x,py):\n",
    "    \"\"\" Plots x vs. prob(y)\n",
    "        Designed for logistic function \n",
    "    \"\"\"\n",
    "    fig = plt.figure()\n",
    "    ax = fig.add_subplot(111)\n",
    "    ax.plot(x,py)\n",
    "    ax.xaxis.set(ticks=range(-5,6))\n",
    "    ax.grid(axis='both')\n",
    "    plt.xlabel('x')\n",
    "    plt.ylabel('probability of y')\n",
    "    plt.title('Logistic Curve')\n",
    "    plt.show()"
   ]
  },
  {
   "cell_type": "markdown",
   "metadata": {},
   "source": [
    "The Logistic Function for a single feature is\n",
    "\n",
    "$$ p=P(y=1)=\\frac{e^{\\beta_1+\\beta_{1}X_{1}}}{1+e^{\\beta_1+\\beta_1X_1} }$$"
   ]
  },
  {
   "cell_type": "markdown",
   "metadata": {},
   "source": [
    "## Develop the logistic function - Student Coding part a:\n",
    "\n",
    "Define a python function to compute $P(y=1)$ from an input signature ```(x,beta0,beta1)``` where each beta is a scalar, X1 is a (n by 1) matrix and $P(y=1)$ is a (n by 1) matrix"
   ]
  },
  {
   "cell_type": "code",
   "execution_count": null,
   "metadata": {},
   "outputs": [],
   "source": [
    "def logistic1D(x,beta0,beta1):\n",
    "    \"\"\" Return the probability of the logistic function for 1-Dimensional x\n",
    "        at the specified values of beta0 and beta1\n",
    "        will return an an item with the same shape as x which should be a vector.\n",
    "    \"\"\"\n",
    "    prob_y = np.zeros(x.shape)  #placeholder for return value\n",
    "\n",
    "    #------INSERT STUDENT CODE HERE TO COMPUTE THE LOGISTIC FUNCTION-----------\n",
    "\n",
    "    raise NotImplementedError()\n",
    "    #------------END OF STUDENT CODE-------------------------\n",
    "    \n",
    "    return prob_y\n"
   ]
  },
  {
   "cell_type": "markdown",
   "metadata": {},
   "source": [
    "Instantiate x values"
   ]
  },
  {
   "cell_type": "code",
   "execution_count": null,
   "metadata": {},
   "outputs": [],
   "source": [
    "x = np.arange(-6, 6, 0.01)"
   ]
  },
  {
   "cell_type": "markdown",
   "metadata": {},
   "source": [
    "Beta Selection for canonical S curve: Student Coding for part c\n",
    "\n",
    "Your goal is to select scalar values for ```beta0``` and ```beta1``` to replicate s-curve canonical logistic function shape shown in the image below\n",
    "\n",
    "<img src=\"Logistic-S-curve-canonical.png\">"
   ]
  },
  {
   "cell_type": "code",
   "execution_count": null,
   "metadata": {},
   "outputs": [],
   "source": [
    "#select betas to try to recreate graph in part C\n",
    "\n",
    "#------INSERT STUDENT CODE HERE FOR BETAS------------\n",
    "b0 = 0.0  #placeholder\n",
    "b1 = 0.0  #placeholder\n",
    "raise NotImplementedError()\n",
    "#----------------------------------------------------"
   ]
  },
  {
   "cell_type": "markdown",
   "metadata": {},
   "source": [
    "build the resulting logistic graph"
   ]
  },
  {
   "cell_type": "code",
   "execution_count": null,
   "metadata": {},
   "outputs": [],
   "source": [
    "py = logistic1D(x,b0,b1) \n",
    "plotlogistic(x,py)"
   ]
  },
  {
   "cell_type": "markdown",
   "metadata": {},
   "source": [
    "## Beta Selection for Stairstep down: Student Coding for part F\n",
    "\n",
    "Your goal is to select scalar values for ```beta0``` and ```beta1``` to replicate downward step-function shape using the logistic function shown in the image below\n",
    "\n",
    "<img src=\"Logistic-stairstep-down.png\">\n"
   ]
  },
  {
   "cell_type": "code",
   "execution_count": null,
   "metadata": {},
   "outputs": [],
   "source": [
    "#select betas to try to recreate graph in instructions part F\n",
    "\n",
    "#------INSERT STUDENT CODE HERE FOR BETAS------------\n",
    "b0 = 0.0  #placeholder\n",
    "b1 = 0.0  #placeholder\n",
    "raise NotImplementedError()\n",
    "#----------------------------------------------------"
   ]
  },
  {
   "cell_type": "markdown",
   "metadata": {},
   "source": [
    "build the resulting logistic graph"
   ]
  },
  {
   "cell_type": "code",
   "execution_count": null,
   "metadata": {},
   "outputs": [],
   "source": [
    "py = logistic1D(x,b0,b1) \n",
    "plotlogistic(x,py)"
   ]
  }
 ],
 "metadata": {
  "kernelspec": {
   "display_name": "Python 3",
   "language": "python",
   "name": "python3"
  },
  "language_info": {
   "codemirror_mode": {
    "name": "ipython",
    "version": 3
   },
   "file_extension": ".py",
   "mimetype": "text/x-python",
   "name": "python",
   "nbconvert_exporter": "python",
   "pygments_lexer": "ipython3",
   "version": "3.7.6"
  }
 },
 "nbformat": 4,
 "nbformat_minor": 4
}
